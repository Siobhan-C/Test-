{
 "cells": [
  {
   "cell_type": "code",
   "execution_count": 1,
   "id": "7ac5d463",
   "metadata": {},
   "outputs": [],
   "source": [
    "# Dependencies\n",
    "import requests\n",
    "import json\n",
    "import pandas as pd\n",
    "import matplotlib.pyplot as plt\n",
    "import numpy as np"
   ]
  },
  {
   "cell_type": "code",
   "execution_count": 2,
   "id": "675c2453",
   "metadata": {},
   "outputs": [],
   "source": [
    "# URL for GET requests to retrieve vehicle data\n",
    "\n",
    "# HP Atk Def SpAtk SpDef Speed\n",
    "\n",
    "index = [0, 1, 2, 3, 4, 5]\n",
    "stats1 = []\n",
    "stats2 = []\n",
    "stats3 = []\n",
    "stats4 = []\n",
    "stats5 = []\n",
    "stats6 = []\n",
    "stats7 = []\n",
    "stats8 = []\n",
    "stats9 = []\n",
    "\n",
    "url1 = \"https://pokeapi.co/api/v2/pokemon/1\"\n",
    "url2 = \"https://pokeapi.co/api/v2/pokemon/2\"\n",
    "url3 = \"https://pokeapi.co/api/v2/pokemon/3\"\n",
    "url4 = \"https://pokeapi.co/api/v2/pokemon/4\"\n",
    "url5 = \"https://pokeapi.co/api/v2/pokemon/5\"\n",
    "url6 = \"https://pokeapi.co/api/v2/pokemon/6\"\n",
    "url7 = \"https://pokeapi.co/api/v2/pokemon/7\"\n",
    "url8 = \"https://pokeapi.co/api/v2/pokemon/8\"\n",
    "url9 = \"https://pokeapi.co/api/v2/pokemon/9\"\n",
    "urlsb = \"https://pokeapi.co/api/v2/move/solar-beam\"\n",
    "urlft = \"https://pokeapi.co/api/v2/move/flamethrower\"\n",
    "urlhp = \"https://pokeapi.co/api/v2/move/hydro-pump\"\n",
    "\n",
    "response1 = requests.get(url1)\n",
    "response2 = requests.get(url2)\n",
    "response3 = requests.get(url3)\n",
    "response4 = requests.get(url4)\n",
    "response5 = requests.get(url5)\n",
    "response6 = requests.get(url6)\n",
    "response7 = requests.get(url7)\n",
    "response8 = requests.get(url8)\n",
    "response9 = requests.get(url9)\n",
    "responsesb = requests.get(urlsb)\n",
    "responseft = requests.get(urlft)\n",
    "responsehp = requests.get(urlhp)\n",
    "\n",
    "response1_json = response1.json()\n",
    "response2_json = response2.json()\n",
    "response3_json = response3.json()\n",
    "response4_json = response4.json()\n",
    "response5_json = response5.json()\n",
    "response6_json = response6.json()\n",
    "response7_json = response7.json()\n",
    "response8_json = response8.json()\n",
    "response9_json = response9.json()\n",
    "responsesb_json = responsesb.json()\n",
    "responseft_json = responseft.json()\n",
    "responsehp_json = responsehp.json()\n",
    "\n",
    "for i in index:\n",
    "    stats1.append(response1_json['stats'][ i ]['base_stat'])\n",
    "    stats2.append(response2_json['stats'][ i ]['base_stat'])\n",
    "    stats3.append(response3_json['stats'][ i ]['base_stat'])\n",
    "    stats4.append(response4_json['stats'][ i ]['base_stat'])\n",
    "    stats5.append(response5_json['stats'][ i ]['base_stat'])\n",
    "    stats6.append(response6_json['stats'][ i ]['base_stat'])\n",
    "    stats7.append(response7_json['stats'][ i ]['base_stat'])\n",
    "    stats8.append(response8_json['stats'][ i ]['base_stat'])\n",
    "    stats9.append(response9_json['stats'][ i ]['base_stat'])\n",
    "    \n",
    "Bulbasaur_Total = sum(stats1)\n",
    "Ivysaur_Total = sum(stats2)    \n",
    "Venasaur_Total = sum(stats3)\n",
    "Charmander_Total = sum(stats4)\n",
    "Charmeleon_Total = sum(stats5)\n",
    "Charizard_Total = sum(stats6)\n",
    "Squirtle_Total = sum(stats7)\n",
    "Wartortle_Total = sum(stats8)\n",
    "Blastoise_Total = sum(stats9)\n",
    "\n",
    "Venasaur_Solar_Beam_Power = responsesb_json['power']\n",
    "Charizard_Flamethrower_Power = responseft_json['power']\n",
    "Blastoise_Hydro_Pump_Power = responsehp_json['power']"
   ]
  },
  {
   "cell_type": "code",
   "execution_count": 3,
   "id": "0055346a",
   "metadata": {},
   "outputs": [
    {
     "data": {
      "text/plain": [
       "[80, 82, 83, 100, 100, 80]"
      ]
     },
     "execution_count": 3,
     "metadata": {},
     "output_type": "execute_result"
    }
   ],
   "source": [
    "stats3"
   ]
  },
  {
   "cell_type": "code",
   "execution_count": 4,
   "id": "bf50de68",
   "metadata": {},
   "outputs": [
    {
     "data": {
      "text/plain": [
       "[78, 84, 78, 109, 85, 100]"
      ]
     },
     "execution_count": 4,
     "metadata": {},
     "output_type": "execute_result"
    }
   ],
   "source": [
    "stats6"
   ]
  },
  {
   "cell_type": "code",
   "execution_count": 5,
   "id": "4c7956ab",
   "metadata": {},
   "outputs": [
    {
     "data": {
      "text/plain": [
       "[79, 83, 100, 85, 105, 78]"
      ]
     },
     "execution_count": 5,
     "metadata": {},
     "output_type": "execute_result"
    }
   ],
   "source": [
    "stats9"
   ]
  },
  {
   "cell_type": "code",
   "execution_count": 6,
   "id": "3aa43ea1",
   "metadata": {},
   "outputs": [
    {
     "data": {
      "text/plain": [
       "525"
      ]
     },
     "execution_count": 6,
     "metadata": {},
     "output_type": "execute_result"
    }
   ],
   "source": [
    "Venasaur_Total"
   ]
  },
  {
   "cell_type": "code",
   "execution_count": 7,
   "id": "415c7f71",
   "metadata": {},
   "outputs": [
    {
     "data": {
      "text/plain": [
       "534"
      ]
     },
     "execution_count": 7,
     "metadata": {},
     "output_type": "execute_result"
    }
   ],
   "source": [
    "Charizard_Total"
   ]
  },
  {
   "cell_type": "code",
   "execution_count": 8,
   "id": "ef25c840",
   "metadata": {},
   "outputs": [
    {
     "data": {
      "text/plain": [
       "530"
      ]
     },
     "execution_count": 8,
     "metadata": {},
     "output_type": "execute_result"
    }
   ],
   "source": [
    "Blastoise_Total"
   ]
  },
  {
   "cell_type": "code",
   "execution_count": 9,
   "id": "0bdd25cf",
   "metadata": {},
   "outputs": [
    {
     "data": {
      "text/plain": [
       "120"
      ]
     },
     "execution_count": 9,
     "metadata": {},
     "output_type": "execute_result"
    }
   ],
   "source": [
    "Venasaur_Solar_Beam_Power"
   ]
  },
  {
   "cell_type": "code",
   "execution_count": 10,
   "id": "23665e9c",
   "metadata": {},
   "outputs": [
    {
     "data": {
      "text/plain": [
       "90"
      ]
     },
     "execution_count": 10,
     "metadata": {},
     "output_type": "execute_result"
    }
   ],
   "source": [
    "Charizard_Flamethrower_Power"
   ]
  },
  {
   "cell_type": "code",
   "execution_count": 11,
   "id": "a6d6915d",
   "metadata": {},
   "outputs": [
    {
     "data": {
      "text/plain": [
       "110"
      ]
     },
     "execution_count": 11,
     "metadata": {},
     "output_type": "execute_result"
    }
   ],
   "source": [
    "Blastoise_Hydro_Pump_Power"
   ]
  },
  {
   "cell_type": "code",
   "execution_count": 42,
   "id": "1877426a",
   "metadata": {},
   "outputs": [
    {
     "data": {
      "text/plain": [
       "<matplotlib.legend.Legend at 0x27eda8623d0>"
      ]
     },
     "execution_count": 42,
     "metadata": {},
     "output_type": "execute_result"
    },
    {
     "data": {
      "image/png": "[encoded data removed]",
      "text/plain": [
       "<Figure size 640x480 with 1 Axes>"
      ]
     },
     "metadata": {},
     "output_type": "display_data"
    }
   ],
   "source": [
    "fig, ax = plt.subplots()\n",
    "bar_width = 0.25\n",
    "X = np.arange(6)\n",
    "\n",
    "p1 = plt.bar(X, stats3, bar_width, color='g',\n",
    "label='Venasaur')\n",
    "\n",
    "p2 = plt.bar(X + bar_width, stats6, bar_width,\n",
    "color='r',\n",
    "label='Charizard')\n",
    "\n",
    "p3 = plt.bar(X + bar_width + bar_width, stats9, bar_width,\n",
    "color='b',\n",
    "label='Blastoise')\n",
    "\n",
    "plt.xlabel('Stats')\n",
    "plt.ylabel('Power')\n",
    "plt.title('Strongest Pokemon Evolutions')\n",
    "plt.xticks(X + (bar_width) , (\"HP\", \"Atk\", \n",
    "\"Def\", \"SpAtk\", \"SpDef\", \"Speed\"))\n",
    "plt.legend()"
   ]
  },
  {
   "cell_type": "code",
   "execution_count": 86,
   "id": "1243652a",
   "metadata": {},
   "outputs": [],
   "source": [
    "array1 = [Bulbasaur_Total, Ivysaur_Total, Venasaur_Total]\n",
    "array2 = [Charmander_Total, Charmeleon_Total, Charizard_Total]\n",
    "array3 = [Squirtle_Total, Wartortle_Total, Blastoise_Total]"
   ]
  },
  {
   "cell_type": "code",
   "execution_count": 87,
   "id": "0b1fd611",
   "metadata": {},
   "outputs": [
    {
     "data": {
      "text/plain": [
       "[318, 405, 525]"
      ]
     },
     "execution_count": 87,
     "metadata": {},
     "output_type": "execute_result"
    }
   ],
   "source": [
    "array1"
   ]
  },
  {
   "cell_type": "code",
   "execution_count": 88,
   "id": "cf7caafa",
   "metadata": {},
   "outputs": [
    {
     "data": {
      "text/plain": [
       "[309, 405, 534]"
      ]
     },
     "execution_count": 88,
     "metadata": {},
     "output_type": "execute_result"
    }
   ],
   "source": [
    "array2"
   ]
  },
  {
   "cell_type": "code",
   "execution_count": 89,
   "id": "8c6cef83",
   "metadata": {},
   "outputs": [
    {
     "data": {
      "text/plain": [
       "[314, 405, 530]"
      ]
     },
     "execution_count": 89,
     "metadata": {},
     "output_type": "execute_result"
    }
   ],
   "source": [
    "array3"
   ]
  },
  {
   "cell_type": "code",
   "execution_count": 108,
   "id": "c44dd29b",
   "metadata": {},
   "outputs": [
    {
     "data": {
      "image/png": "[encoded data removed]",
      "text/plain": [
       "<Figure size 640x480 with 1 Axes>"
      ]
     },
     "metadata": {},
     "output_type": "display_data"
    }
   ],
   "source": [
    "df = pd.DataFrame([['Grass', Bulbasaur_Total, Ivysaur_Total - Bulbasaur_Total, Venasaur_Total - Ivysaur_Total], \n",
    "                   ['Fire', Charmander_Total, Charmeleon_Total - Charmander_Total, Charizard_Total - Charmeleon_Total], \n",
    "                   ['Water', Squirtle_Total, Wartortle_Total - Squirtle_Total, Blastoise_Total - Wartortle_Total]],\n",
    "                  columns=['Starter', 'First', 'Second', 'Third'])\n",
    "\n",
    "df.plot(x='Starter', kind='bar', stacked=True,\n",
    "        title='Strength by Starter')\n",
    "plt.show()"
   ]
  },
  {
   "cell_type": "code",
   "execution_count": 119,
   "id": "e1e68bb2",
   "metadata": {},
   "outputs": [
    {
     "data": {
      "image/png": "[encoded data removed]",
      "text/plain": [
       "<Figure size 640x480 with 1 Axes>"
      ]
     },
     "metadata": {},
     "output_type": "display_data"
    }
   ],
   "source": [
    "labels = 'Hydra Pump', 'Flamethrower', 'Solar Beam'\n",
    "sizes = [Blastoise_Hydro_Pump_Power, Charizard_Flamethrower_Power, Venasaur_Solar_Beam_Power]\n",
    "explode = (0.05, 0.05, 0.05)\n",
    "\n",
    "fig, ax = plt.subplots()\n",
    "ax.pie(sizes, explode=explode, labels=labels, autopct='%1.1f%%',\n",
    "       shadow=True, startangle=90)\n",
    "plt.show()"
   ]
  },
  {
   "cell_type": "code",
   "execution_count": null,
   "id": "16a2ff5c",
   "metadata": {},
   "outputs": [],
   "source": []
  }
 ],
 "metadata": {
  "kernelspec": {
   "display_name": "Python 3 (ipykernel)",
   "language": "python",
   "name": "python3"
  },
  "language_info": {
   "codemirror_mode": {
    "name": "ipython",
    "version": 3
   },
   "file_extension": ".py",
   "mimetype": "text/x-python",
   "name": "python",
   "nbconvert_exporter": "python",
   "pygments_lexer": "ipython3",
   "version": "3.11.5"
  }
 },
 "nbformat": 4,
 "nbformat_minor": 5
}
